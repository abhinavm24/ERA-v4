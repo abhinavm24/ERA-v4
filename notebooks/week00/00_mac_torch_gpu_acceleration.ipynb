{
 "cells": [
  {
   "cell_type": "code",
   "execution_count": 2,
   "id": "7d1f6a2d",
   "metadata": {},
   "outputs": [
    {
     "name": "stdout",
     "output_type": "stream",
     "text": [
      "\u001b[2mUsing Python 3.12.11 environment at: /Users/amisra/dev/ERA-v4/.venv\u001b[0m\n",
      "\u001b[2mAudited \u001b[1m7 packages\u001b[0m \u001b[2min 6ms\u001b[0m\u001b[0m\n"
     ]
    }
   ],
   "source": [
    "# Install required CV dependencies for this environment using uv\n",
    "!uv pip install -r /Users/amisra/dev/ERA-v4/requirements/cv.txt"
   ]
  },
  {
   "cell_type": "code",
   "execution_count": 3,
   "id": "e4380dae-db9e-4b03-a473-002790554754",
   "metadata": {},
   "outputs": [],
   "source": [
    "import torch"
   ]
  },
  {
   "cell_type": "code",
   "execution_count": 4,
   "id": "5925809a-bb8f-409a-866a-55fd64ebae6a",
   "metadata": {},
   "outputs": [
    {
     "name": "stdout",
     "output_type": "stream",
     "text": [
      "MPS acceleration available: True\n"
     ]
    }
   ],
   "source": [
    "assert torch.backends.mps.is_available(), \"MPS acceleration not available on this Mac. Ensure PyTorch with MPS support is installed and Metal is enabled.\"\n",
    "print(\"MPS acceleration available: True\")"
   ]
  },
  {
   "cell_type": "code",
   "execution_count": 5,
   "id": "fad3d66b-81a3-4ea2-b043-3b945eba3f24",
   "metadata": {},
   "outputs": [
    {
     "name": "stdout",
     "output_type": "stream",
     "text": [
      "Using device: mps\n"
     ]
    }
   ],
   "source": [
    "device = torch.device(\"mps\")\n",
    "print(f\"Using device: {device}\")"
   ]
  },
  {
   "cell_type": "code",
   "execution_count": 6,
   "id": "870122b6-2fd3-44db-81a1-fd33d0965b85",
   "metadata": {},
   "outputs": [
    {
     "name": "stdout",
     "output_type": "stream",
     "text": [
      "Matmul successful on mps:0\n"
     ]
    }
   ],
   "source": [
    "# Quick tensor sanity check on MPS\n",
    "a = torch.randn(1024, 1024, device=device)\n",
    "b = torch.randn(1024, 1024, device=device)\n",
    "c = a @ b\n",
    "print(f\"Matmul successful on {c.device}\")"
   ]
  },
  {
   "cell_type": "code",
   "execution_count": null,
   "id": "4707b345",
   "metadata": {},
   "outputs": [
    {
     "name": "stdout",
     "output_type": "stream",
     "text": [
      "Benchmark: 512x512 matmul, 10 iterations\n",
      "CPU  total: 2.3 ms  | per-op: 0.2 ms\n",
      "MPS  total: 6.3 ms  | per-op: 0.6 ms\n",
      "Speedup (CPU/MPS): 0.36x\n"
     ]
    }
   ],
   "source": [
    "import time\n",
    "\n",
    "\n",
    "def benchmark_elementwise_mul(size: int = 10000, iters: int = 20, device: torch.device = torch.device(\"cpu\")) -> tuple[float, float]:\n",
    "    \"\"\"Benchmark element-wise multiply on a preallocated tensor pair.\n",
    "    Mirrors the separate CPU/MPS cells methodology while ensuring proper MPS sync.\n",
    "    Returns (total_seconds, avg_seconds_per_iter).\n",
    "    \"\"\"\n",
    "    torch.manual_seed(0)\n",
    "    x = torch.rand((size, size), dtype=torch.float32, device=device)\n",
    "    y = torch.rand((size, size), dtype=torch.float32, device=device)\n",
    "\n",
    "    # Warmup a few runs to trigger kernel compilation/caching\n",
    "    for _ in range(5):\n",
    "        _ = x * y\n",
    "        if device.type == \"mps\":\n",
    "            torch.mps.synchronize()\n",
    "\n",
    "    start = time.perf_counter()\n",
    "    for _ in range(iters):\n",
    "        _ = x * y\n",
    "        if device.type == \"mps\":\n",
    "            torch.mps.synchronize()\n",
    "    end = time.perf_counter()\n",
    "\n",
    "    total_seconds = end - start\n",
    "    avg_seconds = total_seconds / iters\n",
    "    return total_seconds, avg_seconds\n",
    "\n",
    "# Calibrated to finish < ~5 seconds total on typical Apple Silicon while showing MPS speedup.\n",
    "# 10k x 10k ~= 100M elements; adjust iters down if needed in your environment.\n",
    "SIZE = 10000\n",
    "ITERS = 20\n",
    "\n",
    "cpu = torch.device(\"cpu\")\n",
    "mps = torch.device(\"mps\")\n",
    "\n",
    "print(f\"Benchmark (element-wise multiply): {SIZE}x{SIZE}, {ITERS} iterations\")\n",
    "\n",
    "cpu_total, cpu_avg = benchmark_elementwise_mul(size=SIZE, iters=ITERS, device=cpu)\n",
    "mps_total, mps_avg = benchmark_elementwise_mul(size=SIZE, iters=ITERS, device=mps)\n",
    "\n",
    "print(f\"CPU  total: {cpu_total*1000:.2f} ms  | per-op: {cpu_avg*1000:.2f} ms\")\n",
    "print(f\"MPS  total: {mps_total*1000:.2f} ms  | per-op: {mps_avg*1000:.2f} ms\")\n",
    "\n",
    "speedup = cpu_total / mps_total if mps_total > 0 else float(\"inf\")\n",
    "print(f\"Speedup (CPU/MPS): {speedup:.2f}x\")\n"
   ]
  },
  {
   "cell_type": "code",
   "execution_count": 8,
   "id": "e493156d-c3ed-4c4e-88d8-1d4b08f815ad",
   "metadata": {},
   "outputs": [],
   "source": [
    "import torch\n",
    "device = torch.device('cpu')\n",
    "x = torch.rand((10000, 10000), dtype=torch.float32)\n",
    "y = torch.rand((10000, 10000), dtype=torch.float32)\n",
    "x = x.to(device)\n",
    "y = y.to(device)"
   ]
  },
  {
   "cell_type": "code",
   "execution_count": 9,
   "id": "e874fee6",
   "metadata": {},
   "outputs": [
    {
     "name": "stdout",
     "output_type": "stream",
     "text": [
      "31.9 ms ± 4.85 ms per loop (mean ± std. dev. of 7 runs, 10 loops each)\n"
     ]
    }
   ],
   "source": [
    "%%timeit\n",
    "x*y"
   ]
  },
  {
   "cell_type": "code",
   "execution_count": 10,
   "id": "f7cce3b3",
   "metadata": {},
   "outputs": [],
   "source": [
    "import torch\n",
    "device = torch.device('mps')\n",
    "x = torch.rand((10000, 10000), dtype=torch.float32)\n",
    "y = torch.rand((10000, 10000), dtype=torch.float32)\n",
    "x = x.to(device)\n",
    "y = y.to(device)"
   ]
  },
  {
   "cell_type": "code",
   "execution_count": 11,
   "id": "1294d6d6",
   "metadata": {},
   "outputs": [
    {
     "name": "stdout",
     "output_type": "stream",
     "text": [
      "1.56 μs ± 46.8 ns per loop (mean ± std. dev. of 7 runs, 1,000,000 loops each)\n"
     ]
    }
   ],
   "source": [
    "%%timeit\n",
    "x * y"
   ]
  },
  {
   "cell_type": "code",
   "execution_count": null,
   "id": "a8023849",
   "metadata": {},
   "outputs": [],
   "source": []
  }
 ],
 "metadata": {
  "kernelspec": {
   "display_name": ".venv",
   "language": "python",
   "name": "python3"
  },
  "language_info": {
   "codemirror_mode": {
    "name": "ipython",
    "version": 3
   },
   "file_extension": ".py",
   "mimetype": "text/x-python",
   "name": "python",
   "nbconvert_exporter": "python",
   "pygments_lexer": "ipython3",
   "version": "3.12.11"
  }
 },
 "nbformat": 4,
 "nbformat_minor": 5
}
