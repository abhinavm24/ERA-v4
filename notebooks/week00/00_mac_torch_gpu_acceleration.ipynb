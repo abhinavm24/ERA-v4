{
 "cells": [
  {
   "cell_type": "code",
   "execution_count": null,
   "id": "7d1f6a2d",
   "metadata": {},
   "outputs": [
    {
     "name": "stdout",
     "output_type": "stream",
     "text": [
      "\u001b[2mUsing Python 3.12.11 environment at: /Users/amisra/dev/ERA-v4/.venv\u001b[0m\n",
      "\u001b[2mAudited \u001b[1m7 packages\u001b[0m \u001b[2min 224ms\u001b[0m\u001b[0m\n"
     ]
    }
   ],
   "source": [
    "# Install required CV dependencies for this environment using uv\n",
    "!uv pip install -r /Users/amisra/dev/ERA-v4/requirements/cv.txt"
   ]
  },
  {
   "cell_type": "code",
   "execution_count": 6,
   "id": "e4380dae-db9e-4b03-a473-002790554754",
   "metadata": {},
   "outputs": [],
   "source": [
    "import torch"
   ]
  },
  {
   "cell_type": "code",
   "execution_count": 7,
   "id": "5925809a-bb8f-409a-866a-55fd64ebae6a",
   "metadata": {},
   "outputs": [
    {
     "name": "stdout",
     "output_type": "stream",
     "text": [
      "MPS acceleration available: True\n"
     ]
    }
   ],
   "source": [
    "assert torch.backends.mps.is_available(), \"MPS acceleration not available on this Mac. Ensure PyTorch with MPS support is installed and Metal is enabled.\"\n",
    "print(\"MPS acceleration available: True\")"
   ]
  },
  {
   "cell_type": "code",
   "execution_count": 9,
   "id": "fad3d66b-81a3-4ea2-b043-3b945eba3f24",
   "metadata": {},
   "outputs": [
    {
     "name": "stdout",
     "output_type": "stream",
     "text": [
      "Using device: mps\n"
     ]
    }
   ],
   "source": [
    "device = torch.device(\"mps\")\n",
    "print(f\"Using device: {device}\")"
   ]
  },
  {
   "cell_type": "code",
   "execution_count": 10,
   "id": "870122b6-2fd3-44db-81a1-fd33d0965b85",
   "metadata": {},
   "outputs": [
    {
     "name": "stdout",
     "output_type": "stream",
     "text": [
      "Matmul successful on mps:0\n"
     ]
    }
   ],
   "source": [
    "# Quick tensor sanity check on MPS\n",
    "a = torch.randn(1024, 1024, device=device)\n",
    "b = torch.randn(1024, 1024, device=device)\n",
    "c = a @ b\n",
    "print(f\"Matmul successful on {c.device}\")"
   ]
  },
  {
   "cell_type": "code",
   "execution_count": null,
   "id": "4707b345",
   "metadata": {},
   "outputs": [],
   "source": [
    "import time\n",
    "\n",
    "def benchmark_matmul(size: int = 512, iters: int = 10, device: torch.device = torch.device(\"cpu\")) -> tuple[float, float]:\n",
    "    torch.manual_seed(0)\n",
    "    a = torch.randn(size, size, device=device)\n",
    "    b = torch.randn(size, size, device=device)\n",
    "\n",
    "    # Warmup\n",
    "    for _ in range(3):\n",
    "        _ = a @ b\n",
    "        if device.type == \"mps\":\n",
    "            torch.mps.synchronize()\n",
    "\n",
    "    start = time.perf_counter()\n",
    "    for _ in range(iters):\n",
    "        _ = a @ b\n",
    "        if device.type == \"mps\":\n",
    "            torch.mps.synchronize()\n",
    "    end = time.perf_counter()\n",
    "\n",
    "    total_seconds = end - start\n",
    "    avg_seconds = total_seconds / iters\n",
    "    return total_seconds, avg_seconds\n",
    "\n",
    "# Keep the test intentionally small to finish well under 5 seconds on typical Apple Silicon\n",
    "size = 512\n",
    "iters = 10\n",
    "\n",
    "cpu = torch.device(\"cpu\")\n",
    "mps = torch.device(\"mps\")\n",
    "\n",
    "print(f\"Benchmark: {size}x{size} matmul, {iters} iterations\")\n",
    "\n",
    "cpu_total, cpu_avg = benchmark_matmul(size=size, iters=iters, device=cpu)\n",
    "mps_total, mps_avg = benchmark_matmul(size=size, iters=iters, device=mps)\n",
    "\n",
    "print(f\"CPU  total: {cpu_total*1000:.1f} ms  | per-op: {cpu_avg*1000:.1f} ms\")\n",
    "print(f\"MPS  total: {mps_total*1000:.1f} ms  | per-op: {mps_avg*1000:.1f} ms\")\n",
    "\n",
    "speedup = cpu_total / mps_total if mps_total > 0 else float('inf')\n",
    "print(f\"Speedup (CPU/MPS): {speedup:.2f}x\")\n"
   ]
  },
  {
   "cell_type": "code",
   "execution_count": null,
   "id": "e493156d-c3ed-4c4e-88d8-1d4b08f815ad",
   "metadata": {},
   "outputs": [],
   "source": []
  }
 ],
 "metadata": {
  "kernelspec": {
   "display_name": "Python (era-v4)",
   "language": "python",
   "name": "era-v4"
  },
  "language_info": {
   "codemirror_mode": {
    "name": "ipython",
    "version": 3
   },
   "file_extension": ".py",
   "mimetype": "text/x-python",
   "name": "python",
   "nbconvert_exporter": "python",
   "pygments_lexer": "ipython3",
   "version": "3.12.11"
  }
 },
 "nbformat": 4,
 "nbformat_minor": 5
}
