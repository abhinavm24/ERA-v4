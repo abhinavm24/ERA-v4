{
 "cells": [
  {
   "cell_type": "code",
   "execution_count": 5,
   "id": "7d1f6a2d",
   "metadata": {},
   "outputs": [
    {
     "name": "stdout",
     "output_type": "stream",
     "text": [
      "\u001b[2mUsing Python 3.12.11 environment at: /Users/amisra/dev/ERA-v4/.venv\u001b[0m\n",
      "\u001b[2mAudited \u001b[1m7 packages\u001b[0m \u001b[2min 224ms\u001b[0m\u001b[0m\n"
     ]
    }
   ],
   "source": [
    "# Install required CV dependencies for this environment using uv\n",
    "!uv pip install -r /Users/amisra/dev/ERA-v4/requirements/cv.txt"
   ]
  },
  {
   "cell_type": "code",
   "execution_count": 6,
   "id": "e4380dae-db9e-4b03-a473-002790554754",
   "metadata": {},
   "outputs": [],
   "source": [
    "import torch"
   ]
  },
  {
   "cell_type": "code",
   "execution_count": 7,
   "id": "5925809a-bb8f-409a-866a-55fd64ebae6a",
   "metadata": {},
   "outputs": [
    {
     "name": "stdout",
     "output_type": "stream",
     "text": [
      "MPS acceleration available: True\n"
     ]
    }
   ],
   "source": [
    "assert torch.backends.mps.is_available(), \"MPS acceleration not available on this Mac. Ensure PyTorch with MPS support is installed and Metal is enabled.\"\n",
    "print(\"MPS acceleration available: True\")"
   ]
  },
  {
   "cell_type": "code",
   "execution_count": 9,
   "id": "fad3d66b-81a3-4ea2-b043-3b945eba3f24",
   "metadata": {},
   "outputs": [
    {
     "name": "stdout",
     "output_type": "stream",
     "text": [
      "Using device: mps\n"
     ]
    }
   ],
   "source": [
    "device = torch.device(\"mps\")\n",
    "print(f\"Using device: {device}\")"
   ]
  },
  {
   "cell_type": "code",
   "execution_count": 10,
   "id": "870122b6-2fd3-44db-81a1-fd33d0965b85",
   "metadata": {},
   "outputs": [
    {
     "name": "stdout",
     "output_type": "stream",
     "text": [
      "Matmul successful on mps:0\n"
     ]
    }
   ],
   "source": [
    "# Quick tensor sanity check on MPS\n",
    "a = torch.randn(1024, 1024, device=device)\n",
    "b = torch.randn(1024, 1024, device=device)\n",
    "c = a @ b\n",
    "print(f\"Matmul successful on {c.device}\")"
   ]
  },
  {
   "cell_type": "code",
   "execution_count": null,
   "id": "e493156d-c3ed-4c4e-88d8-1d4b08f815ad",
   "metadata": {},
   "outputs": [],
   "source": []
  }
 ],
 "metadata": {
  "kernelspec": {
   "display_name": "Python (era-v4)",
   "language": "python",
   "name": "era-v4"
  },
  "language_info": {
   "codemirror_mode": {
    "name": "ipython",
    "version": 3
   },
   "file_extension": ".py",
   "mimetype": "text/x-python",
   "name": "python",
   "nbconvert_exporter": "python",
   "pygments_lexer": "ipython3",
   "version": "3.12.11"
  }
 },
 "nbformat": 4,
 "nbformat_minor": 5
}
